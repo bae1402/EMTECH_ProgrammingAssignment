{
 "cells": [
  {
   "cell_type": "markdown",
   "metadata": {},
   "source": [
    "# Programming Assignment 3\n",
    "# <span style=\"font-family: Arial; color: #2e86c1; font-size: 25px;\">Logistic Regression</span>\n",
    "\n",
    "### <span style=\"font-family: Arial; color: darkslategray;\">By: Beanca A. Manaog & Julian Gabrielo B. Sales</span>\n",
    "### <span style=\"font-family: Arial; color: darkslategray;\">Subject: ECE Electives 1 - Emerging Technologies</span>\n",
    "\n",
    "<hr style=\"border: 1px solid #ccc;\" />\n",
    "\n",
    "\n",
    "<span style=\"color: green; font-weight: bold; font-size: large\">Introduction</span>\n",
    "#### In this assignment, we will train a model using Logistic Regression to classify breast tumor data from the Wisconsin Breast Cancer dataset. The dataset contains 699 instances, each characterized by attributes such as Clump Thickness, Uniformity of Cell Size, and Bare Nuclei. Our objective is to preprocess the data, remove missing values and unnecessary columns, convert tumor classes into binary labels, and analyze the model's performance to gain insights into tumor classification."
   ]
  },
  {
   "cell_type": "markdown",
   "metadata": {},
   "source": [
    "### <span style=\"color: #2e86c1; font-size: 20px;\">Importing required libraries and modules </span>"
   ]
  },
  {
   "cell_type": "code",
   "execution_count": 24,
   "metadata": {},
   "outputs": [],
   "source": [
    "import pandas as pd\n",
    "from sklearn.model_selection import train_test_split\n",
    "from sklearn.preprocessing import StandardScaler\n",
    "from sklearn.linear_model import LogisticRegression\n",
    "from sklearn.metrics import (\n",
    "    classification_report,\n",
    "    confusion_matrix,\n",
    "    roc_curve,\n",
    "    roc_auc_score,\n",
    "    precision_score,\n",
    "    recall_score,\n",
    "    f1_score,\n",
    "    ConfusionMatrixDisplay  # Add this import\n",
    ")\n",
    "import matplotlib.pyplot as plt\n",
    "from sklearn.pipeline import Pipeline"
   ]
  },
  {
   "cell_type": "markdown",
   "metadata": {},
   "source": [
    "### <span style=\"color: #2e86c1; font-size: 20px;\">Loading of Dataset </span>"
   ]
  },
  {
   "cell_type": "code",
   "execution_count": 25,
   "metadata": {},
   "outputs": [],
   "source": [
    "# Load dataset\n",
    "columns = [\n",
    "    \"ID\", \"Diagnosis\", \"Radius_mean\", \"Texture_mean\", \"Perimeter_mean\", \"Area_mean\", \"Smoothness_mean\",\n",
    "    \"Compactness_mean\", \"Concavity_mean\", \"Concave_points_mean\", \"Symmetry_mean\", \"Fractal_dimension_mean\",\n",
    "    \"Radius_se\", \"Texture_se\", \"Perimeter_se\", \"Area_se\", \"Smoothness_se\", \"Compactness_se\",\n",
    "    \"Concavity_se\", \"Concave_points_se\", \"Symmetry_se\", \"Fractal_dimension_se\", \"Radius_worst\",\n",
    "    \"Texture_worst\", \"Perimeter_worst\", \"Area_worst\", \"Smoothness_worst\", \"Compactness_worst\",\n",
    "    \"Concavity_worst\", \"Concave_points_worst\", \"Symmetry_worst\", \"Fractal_dimension_worst\"\n",
    "]\n",
    "df = pd.read_csv(\"wdbc.data\", header=None, names=columns)"
   ]
  },
  {
   "cell_type": "markdown",
   "metadata": {},
   "source": [
    "### <span style=\"color: #2e86c1; font-size: 20px;\">Preprocessing of Data </span>"
   ]
  },
  {
   "cell_type": "code",
   "execution_count": 26,
   "metadata": {},
   "outputs": [],
   "source": [
    "# Preprocess Data\n",
    "df.drop(columns=[\"ID\"], inplace=True)  # Remove \"ID\" column\n",
    "df[\"Diagnosis\"] = df[\"Diagnosis\"].apply(lambda x: 1 if x == \"M\" else 0)  # Convert \"Diagnosis\"\n",
    "df.dropna(inplace=True)  # Remove rows with missing values"
   ]
  },
  {
   "cell_type": "code",
   "execution_count": 27,
   "metadata": {},
   "outputs": [
    {
     "data": {
      "text/html": [
       "<style type=\"text/css\">\n",
       "#T_bcfc6 th {\n",
       "  text-align: center;\n",
       "  padding: 8px;\n",
       "  border: 1px solid black;\n",
       "}\n",
       "#T_bcfc6 td {\n",
       "  text-align: center;\n",
       "  padding: 8px;\n",
       "  border: 1px solid black;\n",
       "}\n",
       "</style>\n",
       "<table id=\"T_bcfc6\" style=\"border-collapse: collapse; margin: auto; width: 90%;\">\n",
       "  <thead>\n",
       "    <tr>\n",
       "      <th class=\"blank level0\" >&nbsp;</th>\n",
       "      <th id=\"T_bcfc6_level0_col0\" class=\"col_heading level0 col0\" >Diagnosis</th>\n",
       "      <th id=\"T_bcfc6_level0_col1\" class=\"col_heading level0 col1\" >Radius_mean</th>\n",
       "      <th id=\"T_bcfc6_level0_col2\" class=\"col_heading level0 col2\" >Texture_mean</th>\n",
       "      <th id=\"T_bcfc6_level0_col3\" class=\"col_heading level0 col3\" >Perimeter_mean</th>\n",
       "      <th id=\"T_bcfc6_level0_col4\" class=\"col_heading level0 col4\" >Area_mean</th>\n",
       "      <th id=\"T_bcfc6_level0_col5\" class=\"col_heading level0 col5\" >Smoothness_mean</th>\n",
       "      <th id=\"T_bcfc6_level0_col6\" class=\"col_heading level0 col6\" >Compactness_mean</th>\n",
       "      <th id=\"T_bcfc6_level0_col7\" class=\"col_heading level0 col7\" >Concavity_mean</th>\n",
       "      <th id=\"T_bcfc6_level0_col8\" class=\"col_heading level0 col8\" >Concave_points_mean</th>\n",
       "      <th id=\"T_bcfc6_level0_col9\" class=\"col_heading level0 col9\" >Symmetry_mean</th>\n",
       "      <th id=\"T_bcfc6_level0_col10\" class=\"col_heading level0 col10\" >Fractal_dimension_mean</th>\n",
       "      <th id=\"T_bcfc6_level0_col11\" class=\"col_heading level0 col11\" >Radius_se</th>\n",
       "      <th id=\"T_bcfc6_level0_col12\" class=\"col_heading level0 col12\" >Texture_se</th>\n",
       "      <th id=\"T_bcfc6_level0_col13\" class=\"col_heading level0 col13\" >Perimeter_se</th>\n",
       "      <th id=\"T_bcfc6_level0_col14\" class=\"col_heading level0 col14\" >Area_se</th>\n",
       "      <th id=\"T_bcfc6_level0_col15\" class=\"col_heading level0 col15\" >Smoothness_se</th>\n",
       "      <th id=\"T_bcfc6_level0_col16\" class=\"col_heading level0 col16\" >Compactness_se</th>\n",
       "      <th id=\"T_bcfc6_level0_col17\" class=\"col_heading level0 col17\" >Concavity_se</th>\n",
       "      <th id=\"T_bcfc6_level0_col18\" class=\"col_heading level0 col18\" >Concave_points_se</th>\n",
       "      <th id=\"T_bcfc6_level0_col19\" class=\"col_heading level0 col19\" >Symmetry_se</th>\n",
       "      <th id=\"T_bcfc6_level0_col20\" class=\"col_heading level0 col20\" >Fractal_dimension_se</th>\n",
       "      <th id=\"T_bcfc6_level0_col21\" class=\"col_heading level0 col21\" >Radius_worst</th>\n",
       "      <th id=\"T_bcfc6_level0_col22\" class=\"col_heading level0 col22\" >Texture_worst</th>\n",
       "      <th id=\"T_bcfc6_level0_col23\" class=\"col_heading level0 col23\" >Perimeter_worst</th>\n",
       "      <th id=\"T_bcfc6_level0_col24\" class=\"col_heading level0 col24\" >Area_worst</th>\n",
       "      <th id=\"T_bcfc6_level0_col25\" class=\"col_heading level0 col25\" >Smoothness_worst</th>\n",
       "      <th id=\"T_bcfc6_level0_col26\" class=\"col_heading level0 col26\" >Compactness_worst</th>\n",
       "      <th id=\"T_bcfc6_level0_col27\" class=\"col_heading level0 col27\" >Concavity_worst</th>\n",
       "      <th id=\"T_bcfc6_level0_col28\" class=\"col_heading level0 col28\" >Concave_points_worst</th>\n",
       "      <th id=\"T_bcfc6_level0_col29\" class=\"col_heading level0 col29\" >Symmetry_worst</th>\n",
       "      <th id=\"T_bcfc6_level0_col30\" class=\"col_heading level0 col30\" >Fractal_dimension_worst</th>\n",
       "    </tr>\n",
       "  </thead>\n",
       "  <tbody>\n",
       "    <tr>\n",
       "      <th id=\"T_bcfc6_level0_row0\" class=\"row_heading level0 row0\" >0</th>\n",
       "      <td id=\"T_bcfc6_row0_col0\" class=\"data row0 col0\" >1</td>\n",
       "      <td id=\"T_bcfc6_row0_col1\" class=\"data row0 col1\" >17.990000</td>\n",
       "      <td id=\"T_bcfc6_row0_col2\" class=\"data row0 col2\" >10.380000</td>\n",
       "      <td id=\"T_bcfc6_row0_col3\" class=\"data row0 col3\" >122.800000</td>\n",
       "      <td id=\"T_bcfc6_row0_col4\" class=\"data row0 col4\" >1001.000000</td>\n",
       "      <td id=\"T_bcfc6_row0_col5\" class=\"data row0 col5\" >0.118400</td>\n",
       "      <td id=\"T_bcfc6_row0_col6\" class=\"data row0 col6\" >0.277600</td>\n",
       "      <td id=\"T_bcfc6_row0_col7\" class=\"data row0 col7\" >0.300100</td>\n",
       "      <td id=\"T_bcfc6_row0_col8\" class=\"data row0 col8\" >0.147100</td>\n",
       "      <td id=\"T_bcfc6_row0_col9\" class=\"data row0 col9\" >0.241900</td>\n",
       "      <td id=\"T_bcfc6_row0_col10\" class=\"data row0 col10\" >0.078710</td>\n",
       "      <td id=\"T_bcfc6_row0_col11\" class=\"data row0 col11\" >1.095000</td>\n",
       "      <td id=\"T_bcfc6_row0_col12\" class=\"data row0 col12\" >0.905300</td>\n",
       "      <td id=\"T_bcfc6_row0_col13\" class=\"data row0 col13\" >8.589000</td>\n",
       "      <td id=\"T_bcfc6_row0_col14\" class=\"data row0 col14\" >153.400000</td>\n",
       "      <td id=\"T_bcfc6_row0_col15\" class=\"data row0 col15\" >0.006399</td>\n",
       "      <td id=\"T_bcfc6_row0_col16\" class=\"data row0 col16\" >0.049040</td>\n",
       "      <td id=\"T_bcfc6_row0_col17\" class=\"data row0 col17\" >0.053730</td>\n",
       "      <td id=\"T_bcfc6_row0_col18\" class=\"data row0 col18\" >0.015870</td>\n",
       "      <td id=\"T_bcfc6_row0_col19\" class=\"data row0 col19\" >0.030030</td>\n",
       "      <td id=\"T_bcfc6_row0_col20\" class=\"data row0 col20\" >0.006193</td>\n",
       "      <td id=\"T_bcfc6_row0_col21\" class=\"data row0 col21\" >25.380000</td>\n",
       "      <td id=\"T_bcfc6_row0_col22\" class=\"data row0 col22\" >17.330000</td>\n",
       "      <td id=\"T_bcfc6_row0_col23\" class=\"data row0 col23\" >184.600000</td>\n",
       "      <td id=\"T_bcfc6_row0_col24\" class=\"data row0 col24\" >2019.000000</td>\n",
       "      <td id=\"T_bcfc6_row0_col25\" class=\"data row0 col25\" >0.162200</td>\n",
       "      <td id=\"T_bcfc6_row0_col26\" class=\"data row0 col26\" >0.665600</td>\n",
       "      <td id=\"T_bcfc6_row0_col27\" class=\"data row0 col27\" >0.711900</td>\n",
       "      <td id=\"T_bcfc6_row0_col28\" class=\"data row0 col28\" >0.265400</td>\n",
       "      <td id=\"T_bcfc6_row0_col29\" class=\"data row0 col29\" >0.460100</td>\n",
       "      <td id=\"T_bcfc6_row0_col30\" class=\"data row0 col30\" >0.118900</td>\n",
       "    </tr>\n",
       "    <tr>\n",
       "      <th id=\"T_bcfc6_level0_row1\" class=\"row_heading level0 row1\" >1</th>\n",
       "      <td id=\"T_bcfc6_row1_col0\" class=\"data row1 col0\" >1</td>\n",
       "      <td id=\"T_bcfc6_row1_col1\" class=\"data row1 col1\" >20.570000</td>\n",
       "      <td id=\"T_bcfc6_row1_col2\" class=\"data row1 col2\" >17.770000</td>\n",
       "      <td id=\"T_bcfc6_row1_col3\" class=\"data row1 col3\" >132.900000</td>\n",
       "      <td id=\"T_bcfc6_row1_col4\" class=\"data row1 col4\" >1326.000000</td>\n",
       "      <td id=\"T_bcfc6_row1_col5\" class=\"data row1 col5\" >0.084740</td>\n",
       "      <td id=\"T_bcfc6_row1_col6\" class=\"data row1 col6\" >0.078640</td>\n",
       "      <td id=\"T_bcfc6_row1_col7\" class=\"data row1 col7\" >0.086900</td>\n",
       "      <td id=\"T_bcfc6_row1_col8\" class=\"data row1 col8\" >0.070170</td>\n",
       "      <td id=\"T_bcfc6_row1_col9\" class=\"data row1 col9\" >0.181200</td>\n",
       "      <td id=\"T_bcfc6_row1_col10\" class=\"data row1 col10\" >0.056670</td>\n",
       "      <td id=\"T_bcfc6_row1_col11\" class=\"data row1 col11\" >0.543500</td>\n",
       "      <td id=\"T_bcfc6_row1_col12\" class=\"data row1 col12\" >0.733900</td>\n",
       "      <td id=\"T_bcfc6_row1_col13\" class=\"data row1 col13\" >3.398000</td>\n",
       "      <td id=\"T_bcfc6_row1_col14\" class=\"data row1 col14\" >74.080000</td>\n",
       "      <td id=\"T_bcfc6_row1_col15\" class=\"data row1 col15\" >0.005225</td>\n",
       "      <td id=\"T_bcfc6_row1_col16\" class=\"data row1 col16\" >0.013080</td>\n",
       "      <td id=\"T_bcfc6_row1_col17\" class=\"data row1 col17\" >0.018600</td>\n",
       "      <td id=\"T_bcfc6_row1_col18\" class=\"data row1 col18\" >0.013400</td>\n",
       "      <td id=\"T_bcfc6_row1_col19\" class=\"data row1 col19\" >0.013890</td>\n",
       "      <td id=\"T_bcfc6_row1_col20\" class=\"data row1 col20\" >0.003532</td>\n",
       "      <td id=\"T_bcfc6_row1_col21\" class=\"data row1 col21\" >24.990000</td>\n",
       "      <td id=\"T_bcfc6_row1_col22\" class=\"data row1 col22\" >23.410000</td>\n",
       "      <td id=\"T_bcfc6_row1_col23\" class=\"data row1 col23\" >158.800000</td>\n",
       "      <td id=\"T_bcfc6_row1_col24\" class=\"data row1 col24\" >1956.000000</td>\n",
       "      <td id=\"T_bcfc6_row1_col25\" class=\"data row1 col25\" >0.123800</td>\n",
       "      <td id=\"T_bcfc6_row1_col26\" class=\"data row1 col26\" >0.186600</td>\n",
       "      <td id=\"T_bcfc6_row1_col27\" class=\"data row1 col27\" >0.241600</td>\n",
       "      <td id=\"T_bcfc6_row1_col28\" class=\"data row1 col28\" >0.186000</td>\n",
       "      <td id=\"T_bcfc6_row1_col29\" class=\"data row1 col29\" >0.275000</td>\n",
       "      <td id=\"T_bcfc6_row1_col30\" class=\"data row1 col30\" >0.089020</td>\n",
       "    </tr>\n",
       "    <tr>\n",
       "      <th id=\"T_bcfc6_level0_row2\" class=\"row_heading level0 row2\" >2</th>\n",
       "      <td id=\"T_bcfc6_row2_col0\" class=\"data row2 col0\" >1</td>\n",
       "      <td id=\"T_bcfc6_row2_col1\" class=\"data row2 col1\" >19.690000</td>\n",
       "      <td id=\"T_bcfc6_row2_col2\" class=\"data row2 col2\" >21.250000</td>\n",
       "      <td id=\"T_bcfc6_row2_col3\" class=\"data row2 col3\" >130.000000</td>\n",
       "      <td id=\"T_bcfc6_row2_col4\" class=\"data row2 col4\" >1203.000000</td>\n",
       "      <td id=\"T_bcfc6_row2_col5\" class=\"data row2 col5\" >0.109600</td>\n",
       "      <td id=\"T_bcfc6_row2_col6\" class=\"data row2 col6\" >0.159900</td>\n",
       "      <td id=\"T_bcfc6_row2_col7\" class=\"data row2 col7\" >0.197400</td>\n",
       "      <td id=\"T_bcfc6_row2_col8\" class=\"data row2 col8\" >0.127900</td>\n",
       "      <td id=\"T_bcfc6_row2_col9\" class=\"data row2 col9\" >0.206900</td>\n",
       "      <td id=\"T_bcfc6_row2_col10\" class=\"data row2 col10\" >0.059990</td>\n",
       "      <td id=\"T_bcfc6_row2_col11\" class=\"data row2 col11\" >0.745600</td>\n",
       "      <td id=\"T_bcfc6_row2_col12\" class=\"data row2 col12\" >0.786900</td>\n",
       "      <td id=\"T_bcfc6_row2_col13\" class=\"data row2 col13\" >4.585000</td>\n",
       "      <td id=\"T_bcfc6_row2_col14\" class=\"data row2 col14\" >94.030000</td>\n",
       "      <td id=\"T_bcfc6_row2_col15\" class=\"data row2 col15\" >0.006150</td>\n",
       "      <td id=\"T_bcfc6_row2_col16\" class=\"data row2 col16\" >0.040060</td>\n",
       "      <td id=\"T_bcfc6_row2_col17\" class=\"data row2 col17\" >0.038320</td>\n",
       "      <td id=\"T_bcfc6_row2_col18\" class=\"data row2 col18\" >0.020580</td>\n",
       "      <td id=\"T_bcfc6_row2_col19\" class=\"data row2 col19\" >0.022500</td>\n",
       "      <td id=\"T_bcfc6_row2_col20\" class=\"data row2 col20\" >0.004571</td>\n",
       "      <td id=\"T_bcfc6_row2_col21\" class=\"data row2 col21\" >23.570000</td>\n",
       "      <td id=\"T_bcfc6_row2_col22\" class=\"data row2 col22\" >25.530000</td>\n",
       "      <td id=\"T_bcfc6_row2_col23\" class=\"data row2 col23\" >152.500000</td>\n",
       "      <td id=\"T_bcfc6_row2_col24\" class=\"data row2 col24\" >1709.000000</td>\n",
       "      <td id=\"T_bcfc6_row2_col25\" class=\"data row2 col25\" >0.144400</td>\n",
       "      <td id=\"T_bcfc6_row2_col26\" class=\"data row2 col26\" >0.424500</td>\n",
       "      <td id=\"T_bcfc6_row2_col27\" class=\"data row2 col27\" >0.450400</td>\n",
       "      <td id=\"T_bcfc6_row2_col28\" class=\"data row2 col28\" >0.243000</td>\n",
       "      <td id=\"T_bcfc6_row2_col29\" class=\"data row2 col29\" >0.361300</td>\n",
       "      <td id=\"T_bcfc6_row2_col30\" class=\"data row2 col30\" >0.087580</td>\n",
       "    </tr>\n",
       "    <tr>\n",
       "      <th id=\"T_bcfc6_level0_row3\" class=\"row_heading level0 row3\" >3</th>\n",
       "      <td id=\"T_bcfc6_row3_col0\" class=\"data row3 col0\" >1</td>\n",
       "      <td id=\"T_bcfc6_row3_col1\" class=\"data row3 col1\" >11.420000</td>\n",
       "      <td id=\"T_bcfc6_row3_col2\" class=\"data row3 col2\" >20.380000</td>\n",
       "      <td id=\"T_bcfc6_row3_col3\" class=\"data row3 col3\" >77.580000</td>\n",
       "      <td id=\"T_bcfc6_row3_col4\" class=\"data row3 col4\" >386.100000</td>\n",
       "      <td id=\"T_bcfc6_row3_col5\" class=\"data row3 col5\" >0.142500</td>\n",
       "      <td id=\"T_bcfc6_row3_col6\" class=\"data row3 col6\" >0.283900</td>\n",
       "      <td id=\"T_bcfc6_row3_col7\" class=\"data row3 col7\" >0.241400</td>\n",
       "      <td id=\"T_bcfc6_row3_col8\" class=\"data row3 col8\" >0.105200</td>\n",
       "      <td id=\"T_bcfc6_row3_col9\" class=\"data row3 col9\" >0.259700</td>\n",
       "      <td id=\"T_bcfc6_row3_col10\" class=\"data row3 col10\" >0.097440</td>\n",
       "      <td id=\"T_bcfc6_row3_col11\" class=\"data row3 col11\" >0.495600</td>\n",
       "      <td id=\"T_bcfc6_row3_col12\" class=\"data row3 col12\" >1.156000</td>\n",
       "      <td id=\"T_bcfc6_row3_col13\" class=\"data row3 col13\" >3.445000</td>\n",
       "      <td id=\"T_bcfc6_row3_col14\" class=\"data row3 col14\" >27.230000</td>\n",
       "      <td id=\"T_bcfc6_row3_col15\" class=\"data row3 col15\" >0.009110</td>\n",
       "      <td id=\"T_bcfc6_row3_col16\" class=\"data row3 col16\" >0.074580</td>\n",
       "      <td id=\"T_bcfc6_row3_col17\" class=\"data row3 col17\" >0.056610</td>\n",
       "      <td id=\"T_bcfc6_row3_col18\" class=\"data row3 col18\" >0.018670</td>\n",
       "      <td id=\"T_bcfc6_row3_col19\" class=\"data row3 col19\" >0.059630</td>\n",
       "      <td id=\"T_bcfc6_row3_col20\" class=\"data row3 col20\" >0.009208</td>\n",
       "      <td id=\"T_bcfc6_row3_col21\" class=\"data row3 col21\" >14.910000</td>\n",
       "      <td id=\"T_bcfc6_row3_col22\" class=\"data row3 col22\" >26.500000</td>\n",
       "      <td id=\"T_bcfc6_row3_col23\" class=\"data row3 col23\" >98.870000</td>\n",
       "      <td id=\"T_bcfc6_row3_col24\" class=\"data row3 col24\" >567.700000</td>\n",
       "      <td id=\"T_bcfc6_row3_col25\" class=\"data row3 col25\" >0.209800</td>\n",
       "      <td id=\"T_bcfc6_row3_col26\" class=\"data row3 col26\" >0.866300</td>\n",
       "      <td id=\"T_bcfc6_row3_col27\" class=\"data row3 col27\" >0.686900</td>\n",
       "      <td id=\"T_bcfc6_row3_col28\" class=\"data row3 col28\" >0.257500</td>\n",
       "      <td id=\"T_bcfc6_row3_col29\" class=\"data row3 col29\" >0.663800</td>\n",
       "      <td id=\"T_bcfc6_row3_col30\" class=\"data row3 col30\" >0.173000</td>\n",
       "    </tr>\n",
       "    <tr>\n",
       "      <th id=\"T_bcfc6_level0_row4\" class=\"row_heading level0 row4\" >4</th>\n",
       "      <td id=\"T_bcfc6_row4_col0\" class=\"data row4 col0\" >1</td>\n",
       "      <td id=\"T_bcfc6_row4_col1\" class=\"data row4 col1\" >20.290000</td>\n",
       "      <td id=\"T_bcfc6_row4_col2\" class=\"data row4 col2\" >14.340000</td>\n",
       "      <td id=\"T_bcfc6_row4_col3\" class=\"data row4 col3\" >135.100000</td>\n",
       "      <td id=\"T_bcfc6_row4_col4\" class=\"data row4 col4\" >1297.000000</td>\n",
       "      <td id=\"T_bcfc6_row4_col5\" class=\"data row4 col5\" >0.100300</td>\n",
       "      <td id=\"T_bcfc6_row4_col6\" class=\"data row4 col6\" >0.132800</td>\n",
       "      <td id=\"T_bcfc6_row4_col7\" class=\"data row4 col7\" >0.198000</td>\n",
       "      <td id=\"T_bcfc6_row4_col8\" class=\"data row4 col8\" >0.104300</td>\n",
       "      <td id=\"T_bcfc6_row4_col9\" class=\"data row4 col9\" >0.180900</td>\n",
       "      <td id=\"T_bcfc6_row4_col10\" class=\"data row4 col10\" >0.058830</td>\n",
       "      <td id=\"T_bcfc6_row4_col11\" class=\"data row4 col11\" >0.757200</td>\n",
       "      <td id=\"T_bcfc6_row4_col12\" class=\"data row4 col12\" >0.781300</td>\n",
       "      <td id=\"T_bcfc6_row4_col13\" class=\"data row4 col13\" >5.438000</td>\n",
       "      <td id=\"T_bcfc6_row4_col14\" class=\"data row4 col14\" >94.440000</td>\n",
       "      <td id=\"T_bcfc6_row4_col15\" class=\"data row4 col15\" >0.011490</td>\n",
       "      <td id=\"T_bcfc6_row4_col16\" class=\"data row4 col16\" >0.024610</td>\n",
       "      <td id=\"T_bcfc6_row4_col17\" class=\"data row4 col17\" >0.056880</td>\n",
       "      <td id=\"T_bcfc6_row4_col18\" class=\"data row4 col18\" >0.018850</td>\n",
       "      <td id=\"T_bcfc6_row4_col19\" class=\"data row4 col19\" >0.017560</td>\n",
       "      <td id=\"T_bcfc6_row4_col20\" class=\"data row4 col20\" >0.005115</td>\n",
       "      <td id=\"T_bcfc6_row4_col21\" class=\"data row4 col21\" >22.540000</td>\n",
       "      <td id=\"T_bcfc6_row4_col22\" class=\"data row4 col22\" >16.670000</td>\n",
       "      <td id=\"T_bcfc6_row4_col23\" class=\"data row4 col23\" >152.200000</td>\n",
       "      <td id=\"T_bcfc6_row4_col24\" class=\"data row4 col24\" >1575.000000</td>\n",
       "      <td id=\"T_bcfc6_row4_col25\" class=\"data row4 col25\" >0.137400</td>\n",
       "      <td id=\"T_bcfc6_row4_col26\" class=\"data row4 col26\" >0.205000</td>\n",
       "      <td id=\"T_bcfc6_row4_col27\" class=\"data row4 col27\" >0.400000</td>\n",
       "      <td id=\"T_bcfc6_row4_col28\" class=\"data row4 col28\" >0.162500</td>\n",
       "      <td id=\"T_bcfc6_row4_col29\" class=\"data row4 col29\" >0.236400</td>\n",
       "      <td id=\"T_bcfc6_row4_col30\" class=\"data row4 col30\" >0.076780</td>\n",
       "    </tr>\n",
       "  </tbody>\n",
       "</table>\n"
      ],
      "text/plain": [
       "<pandas.io.formats.style.Styler at 0x1dc4042e4d0>"
      ]
     },
     "metadata": {},
     "output_type": "display_data"
    },
    {
     "data": {
      "text/html": [
       "<pre style='text-align: center;'><class 'pandas.core.frame.DataFrame'>\n",
       "RangeIndex: 569 entries, 0 to 568\n",
       "Data columns (total 31 columns):\n",
       " #   Column                   Non-Null Count  Dtype  \n",
       "---  ------                   --------------  -----  \n",
       " 0   Diagnosis                569 non-null    int64  \n",
       " 1   Radius_mean              569 non-null    float64\n",
       " 2   Texture_mean             569 non-null    float64\n",
       " 3   Perimeter_mean           569 non-null    float64\n",
       " 4   Area_mean                569 non-null    float64\n",
       " 5   Smoothness_mean          569 non-null    float64\n",
       " 6   Compactness_mean         569 non-null    float64\n",
       " 7   Concavity_mean           569 non-null    float64\n",
       " 8   Concave_points_mean      569 non-null    float64\n",
       " 9   Symmetry_mean            569 non-null    float64\n",
       " 10  Fractal_dimension_mean   569 non-null    float64\n",
       " 11  Radius_se                569 non-null    float64\n",
       " 12  Texture_se               569 non-null    float64\n",
       " 13  Perimeter_se             569 non-null    float64\n",
       " 14  Area_se                  569 non-null    float64\n",
       " 15  Smoothness_se            569 non-null    float64\n",
       " 16  Compactness_se           569 non-null    float64\n",
       " 17  Concavity_se             569 non-null    float64\n",
       " 18  Concave_points_se        569 non-null    float64\n",
       " 19  Symmetry_se              569 non-null    float64\n",
       " 20  Fractal_dimension_se     569 non-null    float64\n",
       " 21  Radius_worst             569 non-null    float64\n",
       " 22  Texture_worst            569 non-null    float64\n",
       " 23  Perimeter_worst          569 non-null    float64\n",
       " 24  Area_worst               569 non-null    float64\n",
       " 25  Smoothness_worst         569 non-null    float64\n",
       " 26  Compactness_worst        569 non-null    float64\n",
       " 27  Concavity_worst          569 non-null    float64\n",
       " 28  Concave_points_worst     569 non-null    float64\n",
       " 29  Symmetry_worst           569 non-null    float64\n",
       " 30  Fractal_dimension_worst  569 non-null    float64\n",
       "dtypes: float64(30), int64(1)\n",
       "memory usage: 137.9 KB\n",
       "</pre>"
      ],
      "text/plain": [
       "<IPython.core.display.HTML object>"
      ]
     },
     "metadata": {},
     "output_type": "display_data"
    }
   ],
   "source": [
    "from IPython.display import display, HTML\n",
    "from io import StringIO  # Import StringIO to capture text output\n",
    "\n",
    "# Confirm the dataset with improved styling\n",
    "styled_df = (\n",
    "    df.head()\n",
    "    .style.set_table_attributes('style=\"border-collapse: collapse; margin: auto; width: 90%;\"')\n",
    "    .set_table_styles(\n",
    "        [\n",
    "            {'selector': 'th', 'props': [('text-align', 'center'), ('padding', '8px'), ('border', '1px solid black')]},\n",
    "            {'selector': 'td', 'props': [('text-align', 'center'), ('padding', '8px'), ('border', '1px solid black')]},\n",
    "        ]\n",
    "    )\n",
    ")\n",
    "display(styled_df)\n",
    "\n",
    "# Fixing df.info() output for better readability in HTML\n",
    "info_buffer = StringIO()  # Use StringIO as the buffer\n",
    "df.info(buf=info_buffer)\n",
    "info_html = f\"<pre style='text-align: center;'>{info_buffer.getvalue()}</pre>\"\n",
    "display(HTML(info_html))"
   ]
  },
  {
   "cell_type": "markdown",
   "metadata": {},
   "source": [
    "### <span style=\"color: #2e86c1; font-size: 17px;\">1. Split the samples into 70% Training and 30% Testing at random. </span>"
   ]
  },
  {
   "cell_type": "code",
   "execution_count": 28,
   "metadata": {},
   "outputs": [],
   "source": [
    "# Split Data\n",
    "X = df.drop(columns=[\"Diagnosis\"])\n",
    "y = df[\"Diagnosis\"]\n",
    "X_train, X_test, y_train, y_test = train_test_split(\n",
    "    X, y, test_size=0.3, random_state=42, stratify=y\n",
    ")"
   ]
  },
  {
   "cell_type": "markdown",
   "metadata": {},
   "source": [
    "### <span style=\"color: #2e86c1; font-size: 17px;\">2. Use stratify=y in the test_train_split function. Build a pipeline using the Standard scaler and logistic regression.</span>"
   ]
  },
  {
   "cell_type": "code",
   "execution_count": 29,
   "metadata": {},
   "outputs": [
    {
     "name": "stdout",
     "output_type": "stream",
     "text": [
      "Pipeline steps:\n",
      "  - scaler: StandardScaler()\n",
      "  - logreg: LogisticRegression(random_state=42)\n"
     ]
    }
   ],
   "source": [
    "from sklearn.preprocessing import StandardScaler\n",
    "from sklearn.linear_model import LogisticRegression\n",
    "\n",
    "# Build Pipeline\n",
    "pipeline = Pipeline([\n",
    "    ('scaler', StandardScaler()),\n",
    "    ('logreg', LogisticRegression(random_state=42))\n",
    "])\n",
    "pipeline.fit(X_train, y_train)\n",
    "\n",
    "# Print the pipeline steps for GitHub rendering\n",
    "print(\"Pipeline steps:\")\n",
    "for step_name, step in pipeline.steps:\n",
    "    print(f\"  - {step_name}: {step}\")\n"
   ]
  },
  {
   "cell_type": "markdown",
   "metadata": {},
   "source": [
    "### <span style=\"color: #2e86c1; font-size: 17px;\">3. Use the default penalty settings of Logistic Regression.  </span>"
   ]
  },
  {
   "cell_type": "markdown",
   "metadata": {},
   "source": [
    "### <span style=\"color: #2e86c1; font-size: 17px;\">4. After fitting the data, what is the model’s training and testing accuracy? Which features are most important?  </span>"
   ]
  },
  {
   "cell_type": "code",
   "execution_count": 30,
   "metadata": {},
   "outputs": [
    {
     "data": {
      "text/html": [
       "<style type=\"text/css\">\n",
       "#T_84e0e th {\n",
       "  text-align: center;\n",
       "}\n",
       "#T_84e0e td {\n",
       "  text-align: center;\n",
       "}\n",
       "</style>\n",
       "<table id=\"T_84e0e\" style=\"width: 40%; margin: auto;\">\n",
       "  <thead>\n",
       "    <tr>\n",
       "      <th id=\"T_84e0e_level0_col0\" class=\"col_heading level0 col0\" >Metric</th>\n",
       "      <th id=\"T_84e0e_level0_col1\" class=\"col_heading level0 col1\" >Value</th>\n",
       "    </tr>\n",
       "  </thead>\n",
       "  <tbody>\n",
       "    <tr>\n",
       "      <td id=\"T_84e0e_row0_col0\" class=\"data row0 col0\" >Training Accuracy</td>\n",
       "      <td id=\"T_84e0e_row0_col1\" class=\"data row0 col1\" >0.99</td>\n",
       "    </tr>\n",
       "    <tr>\n",
       "      <td id=\"T_84e0e_row1_col0\" class=\"data row1 col0\" >Testing Accuracy</td>\n",
       "      <td id=\"T_84e0e_row1_col1\" class=\"data row1 col1\" >0.97</td>\n",
       "    </tr>\n",
       "  </tbody>\n",
       "</table>\n"
      ],
      "text/plain": [
       "<pandas.io.formats.style.Styler at 0x1dc3e2634c0>"
      ]
     },
     "metadata": {},
     "output_type": "display_data"
    }
   ],
   "source": [
    "# Evaluate Accuracy\n",
    "train_accuracy = pipeline.score(X_train, y_train)\n",
    "test_accuracy = pipeline.score(X_test, y_test)\n",
    "\n",
    "# Create a DataFrame to display in a table\n",
    "accuracy_df = pd.DataFrame({\n",
    "    'Metric': ['Training Accuracy', 'Testing Accuracy'],\n",
    "    'Value': [f\"{train_accuracy:.2f}\", f\"{test_accuracy:.2f}\"]\n",
    "})\n",
    "\n",
    "# Style the DataFrame to center the content and hide the index\n",
    "styled_accuracy_df = accuracy_df.style.set_table_attributes('style=\"width: 40%; margin: auto;\"').set_table_styles(\n",
    "    [{'selector': 'th', 'props': [('text-align', 'center')]},\n",
    "     {'selector': 'td', 'props': [('text-align', 'center')]}]).hide(axis='index')\n",
    "\n",
    "# Display the styled table\n",
    "display(styled_accuracy_df)"
   ]
  },
  {
   "cell_type": "markdown",
   "metadata": {},
   "source": [
    "<span style=\"color: #B8860B; font-weight: bold\">Insight:</span>\n",
    "\n",
    "The model's training accuracy of 99% means it correctly classifies nearly all samples in the training dataset. This shows that the model has learned patterns from the data effectively. The testing accuracy of 97% indicates that the model generalizes well to new, unseen data without overfitting, making it reliable for practical applications."
   ]
  },
  {
   "cell_type": "code",
   "execution_count": 31,
   "metadata": {},
   "outputs": [
    {
     "data": {
      "text/html": [
       "<style type=\"text/css\">\n",
       "#T_01cc1 th {\n",
       "  text-align: center;\n",
       "}\n",
       "#T_01cc1 td {\n",
       "  text-align: center;\n",
       "}\n",
       "</style>\n",
       "<table id=\"T_01cc1\" style=\"width: 40%; margin: auto;\">\n",
       "  <thead>\n",
       "    <tr>\n",
       "      <th id=\"T_01cc1_level0_col0\" class=\"col_heading level0 col0\" >Feature</th>\n",
       "      <th id=\"T_01cc1_level0_col1\" class=\"col_heading level0 col1\" >Coefficient</th>\n",
       "    </tr>\n",
       "  </thead>\n",
       "  <tbody>\n",
       "    <tr>\n",
       "      <td id=\"T_01cc1_row0_col0\" class=\"data row0 col0\" >Texture_worst</td>\n",
       "      <td id=\"T_01cc1_row0_col1\" class=\"data row0 col1\" >1.384327</td>\n",
       "    </tr>\n",
       "    <tr>\n",
       "      <td id=\"T_01cc1_row1_col0\" class=\"data row1 col0\" >Radius_se</td>\n",
       "      <td id=\"T_01cc1_row1_col1\" class=\"data row1 col1\" >1.205130</td>\n",
       "    </tr>\n",
       "    <tr>\n",
       "      <td id=\"T_01cc1_row2_col0\" class=\"data row2 col0\" >Symmetry_worst</td>\n",
       "      <td id=\"T_01cc1_row2_col1\" class=\"data row2 col1\" >1.085744</td>\n",
       "    </tr>\n",
       "    <tr>\n",
       "      <td id=\"T_01cc1_row3_col0\" class=\"data row3 col0\" >Area_se</td>\n",
       "      <td id=\"T_01cc1_row3_col1\" class=\"data row3 col1\" >0.912114</td>\n",
       "    </tr>\n",
       "    <tr>\n",
       "      <td id=\"T_01cc1_row4_col0\" class=\"data row4 col0\" >Compactness_se</td>\n",
       "      <td id=\"T_01cc1_row4_col1\" class=\"data row4 col1\" >-0.904630</td>\n",
       "    </tr>\n",
       "  </tbody>\n",
       "</table>\n"
      ],
      "text/plain": [
       "<pandas.io.formats.style.Styler at 0x1dc40136350>"
      ]
     },
     "metadata": {},
     "output_type": "display_data"
    }
   ],
   "source": [
    "# Extract the most important features\n",
    "coef = pipeline.named_steps['logreg'].coef_[0]\n",
    "important_features = pd.Series(coef, index=X.columns).sort_values(key=abs, ascending=False)\n",
    "\n",
    "# Create a DataFrame for the top 5 most important features\n",
    "top_5_features = important_features.head(5).reset_index()\n",
    "top_5_features.columns = ['Feature', 'Coefficient']\n",
    "\n",
    "# Style the DataFrame to center the content and hide the index\n",
    "styled_top_5_features = top_5_features.style.set_table_attributes('style=\"width: 40%; margin: auto;\"').set_table_styles(\n",
    "    [{'selector': 'th', 'props': [('text-align', 'center')]},\n",
    "     {'selector': 'td', 'props': [('text-align', 'center')]}]).hide(axis='index')\n",
    "\n",
    "# Display the styled table\n",
    "display(styled_top_5_features)"
   ]
  },
  {
   "cell_type": "markdown",
   "metadata": {},
   "source": [
    "<span style=\"color: #B8860B; font-weight: bold\">Insight:</span>\n",
    "\n",
    "The importance of features highlights which attributes contribute most to the model's predictions. Texture_worst has the strongest positive influence, meaning higher values of this feature are closely associated with a malignant diagnosis. Similarly, Radius_se, Symmetry_worst, and Area_se positively impact predictions, suggesting their values increase the likelihood of a malignant outcome. On the other hand, Compactness_se has a negative influence, meaning higher values are more associated with benign diagnoses. By identifying these features, the model not only provides predictions but also offers insights into which biological characteristics are most critical for distinguishing cancer types, aiding in both diagnostic and research efforts."
   ]
  },
  {
   "cell_type": "markdown",
   "metadata": {},
   "source": [
    "### <span style=\"color: #2e86c1; font-size: 17px;\">5. Generate a confusion matrix, then calculate the other metrics: F1-score, Precision, Recall, and False alarm rate.  </span>"
   ]
  },
  {
   "cell_type": "code",
   "execution_count": 32,
   "metadata": {},
   "outputs": [
    {
     "data": {
      "text/plain": [
       "<Figure size 600x500 with 0 Axes>"
      ]
     },
     "metadata": {},
     "output_type": "display_data"
    },
    {
     "data": {
      "image/png": "[encoded data removed]",
      "text/plain": [
       "<Figure size 640x480 with 2 Axes>"
      ]
     },
     "metadata": {},
     "output_type": "display_data"
    },
    {
     "data": {
      "text/html": [
       "<style type=\"text/css\">\n",
       "#T_534af th {\n",
       "  text-align: center;\n",
       "}\n",
       "#T_534af td {\n",
       "  text-align: center;\n",
       "}\n",
       "</style>\n",
       "<table id=\"T_534af\" style=\"width: 40%; margin: auto;\">\n",
       "  <thead>\n",
       "    <tr>\n",
       "      <th id=\"T_534af_level0_col0\" class=\"col_heading level0 col0\" >Metric</th>\n",
       "      <th id=\"T_534af_level0_col1\" class=\"col_heading level0 col1\" >Value</th>\n",
       "    </tr>\n",
       "  </thead>\n",
       "  <tbody>\n",
       "    <tr>\n",
       "      <td id=\"T_534af_row0_col0\" class=\"data row0 col0\" >Precision (Positive Predictive Value)</td>\n",
       "      <td id=\"T_534af_row0_col1\" class=\"data row0 col1\" >0.98</td>\n",
       "    </tr>\n",
       "    <tr>\n",
       "      <td id=\"T_534af_row1_col0\" class=\"data row1 col0\" >Recall (Sensitivity or True Positive Rate)</td>\n",
       "      <td id=\"T_534af_row1_col1\" class=\"data row1 col1\" >0.94</td>\n",
       "    </tr>\n",
       "    <tr>\n",
       "      <td id=\"T_534af_row2_col0\" class=\"data row2 col0\" >F1 Score (Harmonic Mean of Precision & Recall)</td>\n",
       "      <td id=\"T_534af_row2_col1\" class=\"data row2 col1\" >0.96</td>\n",
       "    </tr>\n",
       "    <tr>\n",
       "      <td id=\"T_534af_row3_col0\" class=\"data row3 col0\" >False Alarm Rate (Type I Error Rate)</td>\n",
       "      <td id=\"T_534af_row3_col1\" class=\"data row3 col1\" >0.01</td>\n",
       "    </tr>\n",
       "  </tbody>\n",
       "</table>\n"
      ],
      "text/plain": [
       "<pandas.io.formats.style.Styler at 0x1dc44785540>"
      ]
     },
     "metadata": {},
     "output_type": "display_data"
    }
   ],
   "source": [
    "from sklearn.metrics import ConfusionMatrixDisplay\n",
    "\n",
    "# Confusion Matrix and Metrics\n",
    "y_pred = pipeline.predict(X_test)\n",
    "conf_matrix = confusion_matrix(y_test, y_pred)\n",
    "\n",
    "# Display Confusion Matrix as a Heatmap\n",
    "plt.figure(figsize=(6, 5))\n",
    "disp = ConfusionMatrixDisplay(confusion_matrix=conf_matrix, display_labels=[\"Benign (0)\", \"Malignant (1)\"])\n",
    "disp.plot(cmap=\"Blues\", values_format=\"d\")\n",
    "plt.title(\"Confusion Matrix\")\n",
    "plt.show()\n",
    "\n",
    "# Calculate Metrics\n",
    "precision = precision_score(y_test, y_pred)\n",
    "recall = recall_score(y_test, y_pred)\n",
    "f1 = f1_score(y_test, y_pred)\n",
    "false_alarm_rate = conf_matrix[0][1] / (conf_matrix[0][1] + conf_matrix[0][0])\n",
    "\n",
    "# Create a DataFrame to display the metrics in a table\n",
    "metrics_df = pd.DataFrame({\n",
    "    'Metric': ['Precision (Positive Predictive Value)', \n",
    "               'Recall (Sensitivity or True Positive Rate)', \n",
    "               'F1 Score (Harmonic Mean of Precision & Recall)', \n",
    "               'False Alarm Rate (Type I Error Rate)'],\n",
    "    'Value': [f\"{precision:.2f}\", f\"{recall:.2f}\", f\"{f1:.2f}\", f\"{false_alarm_rate:.2f}\"]\n",
    "})\n",
    "\n",
    "# Style the DataFrame to center the content and hide the index\n",
    "styled_metrics_df = metrics_df.style.set_table_attributes('style=\"width: 40%; margin: auto;\"').set_table_styles(\n",
    "    [{'selector': 'th', 'props': [('text-align', 'center')]},\n",
    "     {'selector': 'td', 'props': [('text-align', 'center')]}]).hide(axis='index')\n",
    "\n",
    "# Display the styled table\n",
    "display(styled_metrics_df)"
   ]
  },
  {
   "cell_type": "markdown",
   "metadata": {},
   "source": [
    "<span style=\"color: #B8860B; font-weight: bold\">Insight:</span>\n",
    "\n",
    "The model shows excellent performance with high precision (0.98) and recall (0.94). Precision means the model is very accurate in identifying malignant cases, with only 1 false positive. Recall indicates it successfully catches most malignant cases, missing only 4. The F1-score, a balance between precision and recall, is strong at 0.96. The false alarm rate is very low at 0.01, meaning it rarely misclassifies benign cases as malignant. Overall, the model is highly reliable for diagnosing breast cancer."
   ]
  },
  {
   "cell_type": "markdown",
   "metadata": {},
   "source": [
    "### <span style=\"color: #2e86c1; font-size: 17px;\">6. Plot the ROC curve and report the AUC. For this item, make a result for both the training and testing data, separately. </span>"
   ]
  },
  {
   "cell_type": "code",
   "execution_count": 33,
   "metadata": {},
   "outputs": [
    {
     "data": {
      "text/html": [
       "<style type=\"text/css\">\n",
       "#T_6c461 th {\n",
       "  text-align: center;\n",
       "}\n",
       "#T_6c461 td {\n",
       "  text-align: center;\n",
       "}\n",
       "</style>\n",
       "<table id=\"T_6c461\" style=\"width: 40%; margin: auto;\">\n",
       "  <thead>\n",
       "    <tr>\n",
       "      <th id=\"T_6c461_level0_col0\" class=\"col_heading level0 col0\" >Metric</th>\n",
       "      <th id=\"T_6c461_level0_col1\" class=\"col_heading level0 col1\" >Value</th>\n",
       "    </tr>\n",
       "  </thead>\n",
       "  <tbody>\n",
       "    <tr>\n",
       "      <td id=\"T_6c461_row0_col0\" class=\"data row0 col0\" >Training AUC</td>\n",
       "      <td id=\"T_6c461_row0_col1\" class=\"data row0 col1\" >1.00</td>\n",
       "    </tr>\n",
       "    <tr>\n",
       "      <td id=\"T_6c461_row1_col0\" class=\"data row1 col0\" >Testing AUC</td>\n",
       "      <td id=\"T_6c461_row1_col1\" class=\"data row1 col1\" >1.00</td>\n",
       "    </tr>\n",
       "  </tbody>\n",
       "</table>\n"
      ],
      "text/plain": [
       "<pandas.io.formats.style.Styler at 0x1dc40091a20>"
      ]
     },
     "metadata": {},
     "output_type": "display_data"
    }
   ],
   "source": [
    "# ROC Curve and AUC Calculation\n",
    "y_train_prob = pipeline.predict_proba(X_train)[:, 1]\n",
    "y_test_prob = pipeline.predict_proba(X_test)[:, 1]\n",
    "\n",
    "train_fpr, train_tpr, _ = roc_curve(y_train, y_train_prob)\n",
    "test_fpr, test_tpr, _ = roc_curve(y_test, y_test_prob)\n",
    "\n",
    "train_auc = roc_auc_score(y_train, y_train_prob)\n",
    "test_auc = roc_auc_score(y_test, y_test_prob)\n",
    "\n",
    "# Create a DataFrame for the AUC values\n",
    "auc_df = pd.DataFrame({\n",
    "    'Metric': ['Training AUC', 'Testing AUC'],\n",
    "    'Value': [f\"{train_auc:.2f}\", f\"{test_auc:.2f}\"]\n",
    "})\n",
    "\n",
    "# Style the DataFrame to center the content and hide the index\n",
    "styled_auc_df = auc_df.style.set_table_attributes('style=\"width: 40%; margin: auto;\"').set_table_styles(\n",
    "    [{'selector': 'th', 'props': [('text-align', 'center')]},\n",
    "     {'selector': 'td', 'props': [('text-align', 'center')]}]).hide(axis='index')\n",
    "\n",
    "# Display the styled table\n",
    "display(styled_auc_df)"
   ]
  },
  {
   "cell_type": "code",
   "execution_count": 34,
   "metadata": {},
   "outputs": [
    {
     "data": {
      "image/png": "[encoded data removed]",
      "text/plain": [
       "<Figure size 800x600 with 1 Axes>"
      ]
     },
     "metadata": {},
     "output_type": "display_data"
    }
   ],
   "source": [
    "# Plot ROC Curve\n",
    "plt.figure(figsize=(8, 6))\n",
    "plt.plot(train_fpr, train_tpr, label=f\"Train AUC = {train_auc:.2f}\")\n",
    "plt.plot(test_fpr, test_tpr, label=f\"Test AUC = {test_auc:.2f}\")\n",
    "plt.plot([0, 1], [0, 1], 'k--', label=\"Random Guess\")\n",
    "plt.xlabel(\"False Positive Rate\")\n",
    "plt.ylabel(\"True Positive Rate\")\n",
    "plt.title(\"ROC Curve\")\n",
    "plt.legend()\n",
    "plt.grid()\n",
    "plt.show()"
   ]
  },
  {
   "cell_type": "markdown",
   "metadata": {},
   "source": [
    "<span style=\"color: #B8860B; font-weight: bold\">Insight:</span>\n",
    "\n",
    "The ROC curve demonstrates that the model has exceptional predictive performance, with both the training and testing AUC (Area Under the Curve) equal to 1.00. This indicates that the model perfectly distinguishes between malignant and benign cases without any overlap in predictions. A straight diagonal line represents random guessing, but the model's curve stays near the top-left corner, showcasing its ability to achieve high true positive rates with minimal false positives. This performance suggests a highly effective and robust model for breast cancer classification."
   ]
  },
  {
   "cell_type": "code",
   "execution_count": 35,
   "metadata": {},
   "outputs": [
    {
     "name": "stdout",
     "output_type": "stream",
     "text": [
      "\n",
      "Classification Report:\n",
      "              precision    recall  f1-score   support\n",
      "\n",
      "           0       0.96      0.99      0.98       107\n",
      "           1       0.98      0.94      0.96        64\n",
      "\n",
      "    accuracy                           0.97       171\n",
      "   macro avg       0.97      0.96      0.97       171\n",
      "weighted avg       0.97      0.97      0.97       171\n",
      "\n"
     ]
    }
   ],
   "source": [
    "# Summary Report\n",
    "print(\"\\nClassification Report:\")\n",
    "print(classification_report(y_test, y_pred))"
   ]
  },
  {
   "cell_type": "markdown",
   "metadata": {},
   "source": [
    "<span style=\"color: #B8860B; font-weight: bold\">Insight:</span>\n",
    "\n",
    "The classification report shows that the model performs exceptionally well, achieving 97% overall accuracy. For benign cases (class 0), it has a precision of 0.96, recall of 0.99, and an F1-score of 0.98, indicating minimal false negatives. For malignant cases (class 1), the precision is 0.98, recall is 0.94, and the F1-score is 0.96, reflecting strong detection with slightly higher false negatives. The macro and weighted averages of 0.97 confirm consistent performance across both classes, making the model highly reliable for breast cancer classification."
   ]
  },
  {
   "cell_type": "markdown",
   "metadata": {},
   "source": [
    "**Guide Questions**\n",
    "### <span style=\"color: #2e86c1; font-size: 20px;\">1. What steps are required to remove the \"Sample code number\" column?  </span>\n",
    "\n",
    "To remove the \"Sample code number\" column, one can use Pandas in Python. First, load the dataset into a DataFrame using pd.read_csv(). Then, drop the column by calling df.drop(columns=[\"Sample code number\"], inplace=True). Following these steps ensures that irrelevant identifiers do not affect the analysis or model training.\n",
    "\n",
    "### <span style=\"color: #2e86c1; font-size: 20px;\">2. How can the \"Class\" values be converted into binary (0 and 1) form in Python?  </span>\n",
    "\n",
    "The \"Class\" column can be transformed by using Pandas' replace method. For instance, execute df['Class'] = df['Class'].replace({2: 0, 4: 1}) to map benign (2) to 0 and malignant (4) to 1. This conversion is essential because machine learning models require numerical data for binary classification tasks.\n",
    "\n",
    "### <span style=\"color: #2e86c1; font-size: 20px;\">3. What is the importance of splitting the dataset into training and testing sets?  </span>\n",
    "\n",
    "Splitting the dataset ensures that the model is trained on one portion (training set) and evaluated on another (testing set) to assess its generalization ability. This prevents overfitting, where the model performs well on the training data but poorly on unseen data. It also provides a realistic measure of the model’s performance in real-world scenarios.\n",
    "\n",
    "\n",
    "### <span style=\"color: #2e86c1; font-size: 20px;\">4. Why is it necessary to use the stratify parameter in the train_test_split function?  </span>\n",
    "\n",
    "Using stratify=y ensures that the proportion of classes (benign and malignant) remains consistent in both the training and testing sets. This prevents class imbalance, which could otherwise lead to biased models and inaccurate evaluation metrics, especially in datasets with unequal class distributions.\n",
    "\n",
    "### <span style=\"color: #2e86c1; font-size: 20px;\">5. What is logistic regression, and why is it suitable for this dataset?  </span>\n",
    "\n",
    "Logistic regression is a statistical model used for binary classification tasks. It predicts the probability of an event belonging to one of two classes by modeling a sigmoid function. This dataset, which involves classifying tumors as benign or malignant, is well-suited for logistic regression due to its binary nature and relatively small number of features.\n",
    "\n",
    "### <span style=\"color: #2e86c1; font-size: 20px;\">6. How can the training and testing accuracy of the logistic regression model be calculated?  </span>\n",
    "\n",
    "After fitting the logistic regression model on the training data, use the score() method in Python to calculate accuracy. For example, call model.score(X_train, y_train) for training accuracy and model.score(X_test, y_test) for testing accuracy. These metrics indicate how well the model predicts correct classifications for both sets.\n",
    "\n",
    "### <span style=\"color: #2e86c1; font-size: 20px;\">7. Which features in the dataset are most influential in determining the tumor status, and how can their importance be assessed?  </span>\n",
    "\n",
    "The importance of features can be assessed using the coefficients of the logistic regression model, available in model.coef_. Features with larger absolute coefficient values have a stronger influence on the classification decision. Additionally, domain knowledge and feature scaling can further validate their significance.\n",
    "\n",
    "### <span style=\"color: #2e86c1; font-size: 20px;\">8. How is a confusion matrix generated, and what does it represent?  </span>\n",
    "\n",
    "A confusion matrix is generated using the confusion_matrix() function from sklearn.metrics, passing the true labels and predicted labels. It represents the model's performance by showing the counts of true positives, true negatives, false positives, and false negatives. This helps in understanding the model’s accuracy, precision, recall, and error rates.\n",
    "\n",
    "\n",
    "### <span style=\"color: #2e86c1; font-size: 20px;\">9. How are precision, recall, F1-score, and false alarm rate calculated from the confusion matrix?  </span>\n",
    "\n",
    "Precision is calculated as the ratio of true positives to the sum of true positives and false positives. This metric measures the accuracy of positive predictions. Recall, on the other hand, is the ratio of true positives to the sum of true positives and false negatives, showing how well the model identifies actual positives. The F1-score is the harmonic mean of precision and recall, calculated as 2 times the product of precision and recall divided by the sum of precision and recall. This score balances the two metrics, offering a more comprehensive view of performance. Finally, the False Alarm Rate is calculated as the ratio of false positives to the sum of true negatives and false positives, indicating the proportion of benign cases misclassified as malignant.\n",
    "\n",
    "### <span style=\"color: #2e86c1; font-size: 20px;\">10. Why are these metrics important for evaluating the performance of a classifier?   </span>\n",
    "\n",
    "These metrics provide a deeper understanding of the model’s strengths and weaknesses. Precision and recall address imbalanced data by focusing on positive predictions and actual positives, while the F1-score balances both. The false alarm rate shows the model’s reliability in avoiding incorrect positive predictions.\n",
    "\n",
    "### <span style=\"color: #2e86c1; font-size: 20px;\">11. What is an ROC curve, and how is it plotted for a logistic regression model?    </span>\n",
    "\n",
    "An ROC curve plots the True Positive Rate (Recall) against the False Positive Rate at different classification thresholds. For logistic regression, it is generated using the predicted probabilities, reflecting the model's ability to distinguish between classes across all thresholds.\n",
    "\n",
    "### <span style=\"color: #2e86c1; font-size: 20px;\">12. How is the AUC (Area Under the Curve) calculated, and what does it signify about the model's performance?   </span>\n",
    "\n",
    "The AUC is the area under the ROC curve, calculated using integration. It represents the model’s ability to separate classes; a higher AUC (closer to 1) means better classification performance.\n",
    "\n",
    "### <span style=\"color: #2e86c1; font-size: 20px;\">13. How do the training and testing ROC curves compare, and what insights can be derived from this comparison?    </span>\n",
    "\n",
    "If the training and testing ROC curves are similar and close to 1, it suggests the model generalizes well and performs consistently on unseen data. Significant differences indicate overfitting or underfitting.\n",
    "\n",
    "### <span style=\"color: #2e86c1; font-size: 20px;\">14. What challenges did you encounter during the preprocessing or model training phases, and how did you address them?    </span>\n",
    "\n",
    "Challenges included handling missing data, converting categorical labels to numerical values, and scaling features. These were addressed by dropping incomplete records, mapping labels to binary values, and applying standardization through a pipeline.\n",
    "\n",
    "### <span style=\"color: #2e86c1; font-size: 20px;\">15. If the model's performance is not satisfactory, what adjustments could be made to improve it?    </span>\n",
    "\n",
    "Improvements could include collecting more data, tuning hyperparameters, trying different models, using feature selection to focus on important variables, or addressing class imbalances with oversampling or weighting."
   ]
  }
 ],
 "metadata": {
  "kernelspec": {
   "display_name": "Python 3",
   "language": "python",
   "name": "python3"
  },
  "language_info": {
   "codemirror_mode": {
    "name": "ipython",
    "version": 3
   },
   "file_extension": ".py",
   "mimetype": "text/x-python",
   "name": "python",
   "nbconvert_exporter": "python",
   "pygments_lexer": "ipython3",
   "version": "3.10.11"
  }
 },
 "nbformat": 4,
 "nbformat_minor": 2
}
